{
 "cells": [
  {
   "cell_type": "markdown",
   "id": "e183067e",
   "metadata": {},
   "source": [
    "# Term Project"
   ]
  },
  {
   "cell_type": "markdown",
   "id": "cd48dceb",
   "metadata": {},
   "source": [
    "### Name: Fidel C. Otero\n",
    "### UTEID: fco229"
   ]
  },
  {
   "cell_type": "code",
   "execution_count": 60,
   "id": "2e3a2c39",
   "metadata": {},
   "outputs": [],
   "source": [
    "import numpy as np\n",
    "import matplotlib.pyplot as plt\n",
    "import pandas as pd\n",
    "from sklearn.linear_model import LinearRegression\n",
    "import scipy.stats as stats"
   ]
  },
  {
   "cell_type": "markdown",
   "id": "1dc16477",
   "metadata": {},
   "source": [
    "### Maimonide's Rule"
   ]
  },
  {
   "cell_type": "markdown",
   "id": "8e4a001b",
   "metadata": {},
   "source": [
    "Maimonides is a popular Jewish philosopher and his teachings are applied in Jewish societies to this day.  Maimoinide's rule states that a class' size can reach a maximum limit of 40 students before being split in half (Once the size of a particular school grade level, cohsize, reaches 41 then that class is split into one with 20 students and another with 21 students)."
   ]
  },
  {
   "cell_type": "markdown",
   "id": "bacbdda1",
   "metadata": {},
   "source": [
    "This project will focus on the concept of Maimonide's rule. I had the motivation to perform this particular project by one of my other professors. My dataset is about 4077 Jewish classes that each has a classize, a grade, and an average score. We will clean up this dataset further, but below is what we have for now. My aim is to see if there is truly a relationship between class size and cohort size, and to see if this relationship has an effect on the average scores of individuals near the cutoff points at intervals of 40. The model that I will use is a multiple linear regression model and I expect that as class size increases, average scores decrease. I will evaluate this model using statsmodel.api to use the p-values to see if our results are statistically significant or not. I expect the model to work well with the data, however I fear that it will lack external validity to other classroom data sets that are not Jewish. "
   ]
  },
  {
   "cell_type": "markdown",
   "id": "9b40d6af",
   "metadata": {},
   "source": [
    "Below is the dataset we are working with. Since there are 4076 observations, we will try to cut it down to 2000 to perform our analyses. "
   ]
  },
  {
   "cell_type": "code",
   "execution_count": 61,
   "id": "3156b265",
   "metadata": {
    "scrolled": false
   },
   "outputs": [
    {
     "data": {
      "text/html": [
       "<div>\n",
       "<style scoped>\n",
       "    .dataframe tbody tr th:only-of-type {\n",
       "        vertical-align: middle;\n",
       "    }\n",
       "\n",
       "    .dataframe tbody tr th {\n",
       "        vertical-align: top;\n",
       "    }\n",
       "\n",
       "    .dataframe thead th {\n",
       "        text-align: right;\n",
       "    }\n",
       "</style>\n",
       "<table border=\"1\" class=\"dataframe\">\n",
       "  <thead>\n",
       "    <tr style=\"text-align: right;\">\n",
       "      <th></th>\n",
       "      <th>schlcode</th>\n",
       "      <th>cohsize</th>\n",
       "      <th>classize</th>\n",
       "      <th>tipuach</th>\n",
       "      <th>grade</th>\n",
       "      <th>coh_id</th>\n",
       "      <th>num_classrooms</th>\n",
       "      <th>avgscore</th>\n",
       "    </tr>\n",
       "  </thead>\n",
       "  <tbody>\n",
       "    <tr>\n",
       "      <th>0</th>\n",
       "      <td>11005</td>\n",
       "      <td>35</td>\n",
       "      <td>35</td>\n",
       "      <td>24</td>\n",
       "      <td>4</td>\n",
       "      <td>1</td>\n",
       "      <td>1</td>\n",
       "      <td>65.354996</td>\n",
       "    </tr>\n",
       "    <tr>\n",
       "      <th>1</th>\n",
       "      <td>11006</td>\n",
       "      <td>54</td>\n",
       "      <td>27</td>\n",
       "      <td>38</td>\n",
       "      <td>4</td>\n",
       "      <td>3</td>\n",
       "      <td>2</td>\n",
       "      <td>58.059998</td>\n",
       "    </tr>\n",
       "    <tr>\n",
       "      <th>2</th>\n",
       "      <td>11006</td>\n",
       "      <td>54</td>\n",
       "      <td>27</td>\n",
       "      <td>38</td>\n",
       "      <td>4</td>\n",
       "      <td>3</td>\n",
       "      <td>2</td>\n",
       "      <td>60.245003</td>\n",
       "    </tr>\n",
       "    <tr>\n",
       "      <th>3</th>\n",
       "      <td>11009</td>\n",
       "      <td>38</td>\n",
       "      <td>38</td>\n",
       "      <td>6</td>\n",
       "      <td>4</td>\n",
       "      <td>5</td>\n",
       "      <td>1</td>\n",
       "      <td>77.535004</td>\n",
       "    </tr>\n",
       "    <tr>\n",
       "      <th>4</th>\n",
       "      <td>11010</td>\n",
       "      <td>73</td>\n",
       "      <td>37</td>\n",
       "      <td>3</td>\n",
       "      <td>4</td>\n",
       "      <td>7</td>\n",
       "      <td>2</td>\n",
       "      <td>69.000000</td>\n",
       "    </tr>\n",
       "    <tr>\n",
       "      <th>...</th>\n",
       "      <td>...</td>\n",
       "      <td>...</td>\n",
       "      <td>...</td>\n",
       "      <td>...</td>\n",
       "      <td>...</td>\n",
       "      <td>...</td>\n",
       "      <td>...</td>\n",
       "      <td>...</td>\n",
       "    </tr>\n",
       "    <tr>\n",
       "      <th>4072</th>\n",
       "      <td>61351</td>\n",
       "      <td>19</td>\n",
       "      <td>19</td>\n",
       "      <td>26</td>\n",
       "      <td>5</td>\n",
       "      <td>2013</td>\n",
       "      <td>1</td>\n",
       "      <td>74.880005</td>\n",
       "    </tr>\n",
       "    <tr>\n",
       "      <th>4073</th>\n",
       "      <td>61363</td>\n",
       "      <td>27</td>\n",
       "      <td>27</td>\n",
       "      <td>22</td>\n",
       "      <td>5</td>\n",
       "      <td>2016</td>\n",
       "      <td>1</td>\n",
       "      <td>74.815002</td>\n",
       "    </tr>\n",
       "    <tr>\n",
       "      <th>4074</th>\n",
       "      <td>61364</td>\n",
       "      <td>70</td>\n",
       "      <td>38</td>\n",
       "      <td>0</td>\n",
       "      <td>5</td>\n",
       "      <td>2018</td>\n",
       "      <td>2</td>\n",
       "      <td>73.729996</td>\n",
       "    </tr>\n",
       "    <tr>\n",
       "      <th>4075</th>\n",
       "      <td>61364</td>\n",
       "      <td>70</td>\n",
       "      <td>32</td>\n",
       "      <td>0</td>\n",
       "      <td>5</td>\n",
       "      <td>2018</td>\n",
       "      <td>2</td>\n",
       "      <td>75.529999</td>\n",
       "    </tr>\n",
       "    <tr>\n",
       "      <th>4076</th>\n",
       "      <td>61365</td>\n",
       "      <td>20</td>\n",
       "      <td>20</td>\n",
       "      <td>60</td>\n",
       "      <td>5</td>\n",
       "      <td>2020</td>\n",
       "      <td>1</td>\n",
       "      <td>55.974998</td>\n",
       "    </tr>\n",
       "  </tbody>\n",
       "</table>\n",
       "<p>4077 rows × 8 columns</p>\n",
       "</div>"
      ],
      "text/plain": [
       "      schlcode  cohsize  classize  tipuach  grade  coh_id  num_classrooms  \\\n",
       "0        11005       35        35       24      4       1               1   \n",
       "1        11006       54        27       38      4       3               2   \n",
       "2        11006       54        27       38      4       3               2   \n",
       "3        11009       38        38        6      4       5               1   \n",
       "4        11010       73        37        3      4       7               2   \n",
       "...        ...      ...       ...      ...    ...     ...             ...   \n",
       "4072     61351       19        19       26      5    2013               1   \n",
       "4073     61363       27        27       22      5    2016               1   \n",
       "4074     61364       70        38        0      5    2018               2   \n",
       "4075     61364       70        32        0      5    2018               2   \n",
       "4076     61365       20        20       60      5    2020               1   \n",
       "\n",
       "       avgscore  \n",
       "0     65.354996  \n",
       "1     58.059998  \n",
       "2     60.245003  \n",
       "3     77.535004  \n",
       "4     69.000000  \n",
       "...         ...  \n",
       "4072  74.880005  \n",
       "4073  74.815002  \n",
       "4074  73.729996  \n",
       "4075  75.529999  \n",
       "4076  55.974998  \n",
       "\n",
       "[4077 rows x 8 columns]"
      ]
     },
     "execution_count": 61,
     "metadata": {},
     "output_type": "execute_result"
    }
   ],
   "source": [
    "school_df = pd.read_csv('ClassSizeRKD.csv')\n",
    "school_df"
   ]
  },
  {
   "cell_type": "markdown",
   "id": "83ed40b9",
   "metadata": {},
   "source": [
    "##### Source: https://plato.stanford.edu/entries/maimonides/"
   ]
  },
  {
   "cell_type": "markdown",
   "id": "d9012846",
   "metadata": {},
   "source": [
    "Our variables of interests will be class size, cohort size, and average score. Cohort size is defined as the size of the grade level, class size is the size of a class within a cohort, and average score is defined as the average test scores within each class. Now, we will create some variables and the reasoning for creating them will be explained later. The first variable that we will create is a dummy variable that denotes whether or not a cohort's size is greater than 40 or not. The second variable that we will create is a variable that will center our linear regression at 40. Finally, we will create an interaction variable that will interact the two previously created variables. "
   ]
  },
  {
   "cell_type": "code",
   "execution_count": 62,
   "id": "234a4ba8",
   "metadata": {},
   "outputs": [],
   "source": [
    "# Here we create series that we will use for further analysis\n",
    "classize = school_df['classize']\n",
    "cohsize = school_df['cohsize']\n",
    "\n",
    "school_df['gt40'] = (school_df['cohsize'] > 40).astype(int)\n",
    "school_df['c40'] = (school_df['cohsize'] - 40)\n",
    "\n",
    "# This variable is a variable that denotes whether or not a cohort's size is greater than 40 or not\n",
    "gt40 = school_df['gt40']\n",
    "# This variable is a variable that centers our linear regression at 40 to help us obtain a local average treatment effect (LATE)\n",
    "c40 = school_df['c40']\n",
    "# This variable is the interaction term \n",
    "gt40c40 = gt40 * c40"
   ]
  },
  {
   "cell_type": "markdown",
   "id": "4409a9ef",
   "metadata": {},
   "source": [
    "Before we take any more steps, it is important to visualize the data that we have. Since we are analyzing Jewish schools, it would be reasonable to assume that class size would experience a drop after cohort size reaches multiples of 40. Let us visualize our data to see if this truly holds. "
   ]
  },
  {
   "cell_type": "code",
   "execution_count": 63,
   "id": "93d2680f",
   "metadata": {
    "scrolled": true
   },
   "outputs": [
    {
     "data": {
      "image/png": "[encoded data removed]",
      "text/plain": [
       "<Figure size 640x480 with 1 Axes>"
      ]
     },
     "metadata": {},
     "output_type": "display_data"
    }
   ],
   "source": [
    "fig = plt.figure()\n",
    "plt.scatter(cohsize, classize, c=\"blue\", alpha=0.9, marker='*',label=\"Score\")\n",
    "plt.xlabel(\"Cohort Size\")\n",
    "plt.ylabel(\"Class size\")\n",
    "plt.legend(loc='upper left')\n",
    "plt.axvline(x = 40, color = 'r', label = 'axvline - full height')\n",
    "plt.axvline(x = 80, color = 'r', label = 'axvline - full height')\n",
    "plt.axvline(x = 120, color = 'r', label = 'axvline - full height')\n",
    "plt.axvline(x = 160, color = 'r', label = 'axvline - full height')\n",
    "\n",
    "plt.show()\n"
   ]
  },
  {
   "cell_type": "markdown",
   "id": "cb042ae7",
   "metadata": {},
   "source": [
    "From the plot above, you can see that around 40, 80, 120, 160 (all intervals of 40) the class size drops. From this data, this would be a great setting for a regression discontinuity/kink design, which we can evaluate through the use of linear regression. "
   ]
  },
  {
   "cell_type": "markdown",
   "id": "286f6f0b",
   "metadata": {},
   "source": [
    "#### Regression Kink Design Explanation"
   ]
  },
  {
   "cell_type": "markdown",
   "id": "de879c4c",
   "metadata": {},
   "source": [
    "A regression kink design is a research method that exploits discontinuities/changes of slopes of dependent variables of interest after reaching a certain cutoff point in a running variable. At its core, a multiple linear regression model is used to obtain results. Our assumptions are as follows:"
   ]
  },
  {
   "cell_type": "markdown",
   "id": "2db54f7b",
   "metadata": {},
   "source": [
    "1. There is no change in the slope of the potential outcomes at the cutoff\n",
    "2. Observable and unobservable factors that affect treatment and the outcome do not have a change in slope at the cutoff\n",
    "3. We have a running variable that determines treatment\n",
    "4. We assume these assumptions are true if people can't precisely control their value of the running variable"
   ]
  },
  {
   "cell_type": "markdown",
   "id": "23cdd39f",
   "metadata": {},
   "source": [
    "Because we are doing a regression kink design, we will run two regressions. One will be denoted as the 'first stage' which involves regressing our treatment variable on the running variable. The second will be denoted as the 'reduced form' which involves regressing our dependent variable of interest on the running variable."
   ]
  },
  {
   "cell_type": "markdown",
   "id": "d686a9f7",
   "metadata": {},
   "source": [
    "##### Source: https://blogs.worldbank.org/impactevaluations/tools-trade-regression-kink-design"
   ]
  },
  {
   "cell_type": "markdown",
   "id": "b0bead1f",
   "metadata": {},
   "source": [
    "#### The First-Stage Linear Regression Model"
   ]
  },
  {
   "cell_type": "markdown",
   "id": "f3dde71f",
   "metadata": {},
   "source": [
    "Our linear regression model for this experiment will follow a standard regression kink design formula after making the correct assumptions as stated above.\n",
    "\n",
    "Thus our linear regression model will be:\n",
    "\n",
    "$classize = \\beta_{0} + \\beta_{1}gt40 + \\beta_{2}ct40 + \\beta_{3}gt40ct40 $\n",
    "\n",
    "Essentially our dependent variable of interest for the first stage is class size. After receiving our results, the coefficient on gt40 will tell us the size of the discontinuity, ct40 will tell us the size of the slope before the discontinuity, and the interaction of gt40 and ct40 will provide us with the change in the slope after the cutoff value of 40. This will be our first stage regression. Essentially this regression will relate our instrument and our treatment variable.\n"
   ]
  },
  {
   "cell_type": "markdown",
   "id": "bd4660ec",
   "metadata": {},
   "source": [
    "Because we want to identify a local average treatment effect, we will create a bandwidth to only include values of c40 that have an absolute value of 30. "
   ]
  },
  {
   "cell_type": "code",
   "execution_count": 64,
   "id": "8b763b95",
   "metadata": {},
   "outputs": [
    {
     "data": {
      "text/html": [
       "<div>\n",
       "<style scoped>\n",
       "    .dataframe tbody tr th:only-of-type {\n",
       "        vertical-align: middle;\n",
       "    }\n",
       "\n",
       "    .dataframe tbody tr th {\n",
       "        vertical-align: top;\n",
       "    }\n",
       "\n",
       "    .dataframe thead th {\n",
       "        text-align: right;\n",
       "    }\n",
       "</style>\n",
       "<table border=\"1\" class=\"dataframe\">\n",
       "  <thead>\n",
       "    <tr style=\"text-align: right;\">\n",
       "      <th></th>\n",
       "      <th>schlcode</th>\n",
       "      <th>cohsize</th>\n",
       "      <th>classize</th>\n",
       "      <th>tipuach</th>\n",
       "      <th>grade</th>\n",
       "      <th>coh_id</th>\n",
       "      <th>num_classrooms</th>\n",
       "      <th>avgscore</th>\n",
       "      <th>gt40</th>\n",
       "      <th>c40</th>\n",
       "    </tr>\n",
       "  </thead>\n",
       "  <tbody>\n",
       "    <tr>\n",
       "      <th>0</th>\n",
       "      <td>11005</td>\n",
       "      <td>35</td>\n",
       "      <td>35</td>\n",
       "      <td>24</td>\n",
       "      <td>4</td>\n",
       "      <td>1</td>\n",
       "      <td>1</td>\n",
       "      <td>65.354996</td>\n",
       "      <td>0</td>\n",
       "      <td>-5</td>\n",
       "    </tr>\n",
       "    <tr>\n",
       "      <th>1</th>\n",
       "      <td>11006</td>\n",
       "      <td>54</td>\n",
       "      <td>27</td>\n",
       "      <td>38</td>\n",
       "      <td>4</td>\n",
       "      <td>3</td>\n",
       "      <td>2</td>\n",
       "      <td>58.059998</td>\n",
       "      <td>1</td>\n",
       "      <td>14</td>\n",
       "    </tr>\n",
       "    <tr>\n",
       "      <th>2</th>\n",
       "      <td>11006</td>\n",
       "      <td>54</td>\n",
       "      <td>27</td>\n",
       "      <td>38</td>\n",
       "      <td>4</td>\n",
       "      <td>3</td>\n",
       "      <td>2</td>\n",
       "      <td>60.245003</td>\n",
       "      <td>1</td>\n",
       "      <td>14</td>\n",
       "    </tr>\n",
       "    <tr>\n",
       "      <th>3</th>\n",
       "      <td>11009</td>\n",
       "      <td>38</td>\n",
       "      <td>38</td>\n",
       "      <td>6</td>\n",
       "      <td>4</td>\n",
       "      <td>5</td>\n",
       "      <td>1</td>\n",
       "      <td>77.535004</td>\n",
       "      <td>0</td>\n",
       "      <td>-2</td>\n",
       "    </tr>\n",
       "    <tr>\n",
       "      <th>6</th>\n",
       "      <td>11013</td>\n",
       "      <td>65</td>\n",
       "      <td>31</td>\n",
       "      <td>8</td>\n",
       "      <td>4</td>\n",
       "      <td>9</td>\n",
       "      <td>2</td>\n",
       "      <td>59.105000</td>\n",
       "      <td>1</td>\n",
       "      <td>25</td>\n",
       "    </tr>\n",
       "    <tr>\n",
       "      <th>...</th>\n",
       "      <td>...</td>\n",
       "      <td>...</td>\n",
       "      <td>...</td>\n",
       "      <td>...</td>\n",
       "      <td>...</td>\n",
       "      <td>...</td>\n",
       "      <td>...</td>\n",
       "      <td>...</td>\n",
       "      <td>...</td>\n",
       "      <td>...</td>\n",
       "    </tr>\n",
       "    <tr>\n",
       "      <th>4072</th>\n",
       "      <td>61351</td>\n",
       "      <td>19</td>\n",
       "      <td>19</td>\n",
       "      <td>26</td>\n",
       "      <td>5</td>\n",
       "      <td>2013</td>\n",
       "      <td>1</td>\n",
       "      <td>74.880005</td>\n",
       "      <td>0</td>\n",
       "      <td>-21</td>\n",
       "    </tr>\n",
       "    <tr>\n",
       "      <th>4073</th>\n",
       "      <td>61363</td>\n",
       "      <td>27</td>\n",
       "      <td>27</td>\n",
       "      <td>22</td>\n",
       "      <td>5</td>\n",
       "      <td>2016</td>\n",
       "      <td>1</td>\n",
       "      <td>74.815002</td>\n",
       "      <td>0</td>\n",
       "      <td>-13</td>\n",
       "    </tr>\n",
       "    <tr>\n",
       "      <th>4074</th>\n",
       "      <td>61364</td>\n",
       "      <td>70</td>\n",
       "      <td>38</td>\n",
       "      <td>0</td>\n",
       "      <td>5</td>\n",
       "      <td>2018</td>\n",
       "      <td>2</td>\n",
       "      <td>73.729996</td>\n",
       "      <td>1</td>\n",
       "      <td>30</td>\n",
       "    </tr>\n",
       "    <tr>\n",
       "      <th>4075</th>\n",
       "      <td>61364</td>\n",
       "      <td>70</td>\n",
       "      <td>32</td>\n",
       "      <td>0</td>\n",
       "      <td>5</td>\n",
       "      <td>2018</td>\n",
       "      <td>2</td>\n",
       "      <td>75.529999</td>\n",
       "      <td>1</td>\n",
       "      <td>30</td>\n",
       "    </tr>\n",
       "    <tr>\n",
       "      <th>4076</th>\n",
       "      <td>61365</td>\n",
       "      <td>20</td>\n",
       "      <td>20</td>\n",
       "      <td>60</td>\n",
       "      <td>5</td>\n",
       "      <td>2020</td>\n",
       "      <td>1</td>\n",
       "      <td>55.974998</td>\n",
       "      <td>0</td>\n",
       "      <td>-20</td>\n",
       "    </tr>\n",
       "  </tbody>\n",
       "</table>\n",
       "<p>1916 rows × 10 columns</p>\n",
       "</div>"
      ],
      "text/plain": [
       "      schlcode  cohsize  classize  tipuach  grade  coh_id  num_classrooms  \\\n",
       "0        11005       35        35       24      4       1               1   \n",
       "1        11006       54        27       38      4       3               2   \n",
       "2        11006       54        27       38      4       3               2   \n",
       "3        11009       38        38        6      4       5               1   \n",
       "6        11013       65        31        8      4       9               2   \n",
       "...        ...      ...       ...      ...    ...     ...             ...   \n",
       "4072     61351       19        19       26      5    2013               1   \n",
       "4073     61363       27        27       22      5    2016               1   \n",
       "4074     61364       70        38        0      5    2018               2   \n",
       "4075     61364       70        32        0      5    2018               2   \n",
       "4076     61365       20        20       60      5    2020               1   \n",
       "\n",
       "       avgscore  gt40  c40  \n",
       "0     65.354996     0   -5  \n",
       "1     58.059998     1   14  \n",
       "2     60.245003     1   14  \n",
       "3     77.535004     0   -2  \n",
       "6     59.105000     1   25  \n",
       "...         ...   ...  ...  \n",
       "4072  74.880005     0  -21  \n",
       "4073  74.815002     0  -13  \n",
       "4074  73.729996     1   30  \n",
       "4075  75.529999     1   30  \n",
       "4076  55.974998     0  -20  \n",
       "\n",
       "[1916 rows x 10 columns]"
      ]
     },
     "execution_count": 64,
     "metadata": {},
     "output_type": "execute_result"
    }
   ],
   "source": [
    "new_school_df = school_df[abs(school_df['c40']) <= 30]\n",
    "new_school_df"
   ]
  },
  {
   "cell_type": "markdown",
   "id": "2c8043cf",
   "metadata": {},
   "source": [
    "After cleaning the dataset and limiting the number of observations to 1916, we have successfully made our dataset no larger than 2000 observations. We will now reassign our previous variables to have them updated to our new dataframe. "
   ]
  },
  {
   "cell_type": "code",
   "execution_count": 65,
   "id": "4fffd9b8",
   "metadata": {},
   "outputs": [],
   "source": [
    "# Here we create series that we will use for further analysis\n",
    "classize = new_school_df['classize']\n",
    "cohsize = new_school_df['cohsize']\n",
    "\n",
    "# This variable is a variable that denotes whether or not a cohort's size is greater than 40 or not\n",
    "gt40 = new_school_df['gt40']\n",
    "# This variable is a variable that centers our linear regression at 40 to help us obtain a local average treatment effect (LATE)\n",
    "c40 = new_school_df['c40']\n",
    "# This variable is the interaction term \n",
    "gt40c40 = gt40 * c40"
   ]
  },
  {
   "cell_type": "markdown",
   "id": "168a4882",
   "metadata": {},
   "source": [
    "#### Running the first-stage regression model"
   ]
  },
  {
   "cell_type": "markdown",
   "id": "3d444acb",
   "metadata": {},
   "source": [
    "Now that we have updated our variables, it is time to run a linear regression to see our results. By using sklearn.linear_model LinearRegression, we are able to obtain our regression coefficients. "
   ]
  },
  {
   "cell_type": "markdown",
   "id": "dcfde814",
   "metadata": {},
   "source": [
    "##### Coefficient interpretations"
   ]
  },
  {
   "cell_type": "markdown",
   "id": "4f7e7318",
   "metadata": {},
   "source": [
    "1. The first coefficient, gt40, is -13.012359078940941. We interpret this as at the cutoff point, class size drops on average by about 13.\n",
    "2. The coefficient, c40, is 0.7237558615605529. This number signifies the slope of the line before the cutoff point. This means that class size increases by 0.7237558615605529 as cohort size increases. \n",
    "3. The coefficient, gt40c40, is -0.33900696518803836. This number signifies the change in the slope after the cutoff point. This means that the class size increases by 0.7237558615605529 - 0.33900696518803836 after the cutoff point. "
   ]
  },
  {
   "cell_type": "code",
   "execution_count": 67,
   "id": "ccc76cc8",
   "metadata": {},
   "outputs": [
    {
     "name": "stdout",
     "output_type": "stream",
     "text": [
      "Coefficient of gt40: -13.012359078940941\n",
      "Coefficient of c40: 0.7237558615605529\n",
      "Coefficient of gt40c40 -0.33900696518803836\n"
     ]
    }
   ],
   "source": [
    "my_X = np.vstack((gt40, c40, gt40c40)).T\n",
    "\n",
    "reg = LinearRegression().fit(my_X, classize)\n",
    "\n",
    "gt40_coef_fs = reg.coef_[0]\n",
    "c40_coef_fs = reg.coef_[1]\n",
    "gt40c40_coef_fs = reg.coef_[2]\n",
    "\n",
    "print('Coefficient of gt40:', gt40_coef_fs)\n",
    "print('Coefficient of c40:', c40_coef_fs)\n",
    "print('Coefficient of gt40c40', gt40c40_coef_fs)"
   ]
  },
  {
   "cell_type": "markdown",
   "id": "60031b85",
   "metadata": {},
   "source": [
    "#### Verifying our results"
   ]
  },
  {
   "cell_type": "markdown",
   "id": "67471e6d",
   "metadata": {},
   "source": [
    "We can verify our results using statsmodels.api to obtain our p-values for each regression coefficient. Each coefficient has a p-value of 0, meaning that each coefficient is statistically significant and rejects the null hypothesis that the specific coefficient is equal to 0."
   ]
  },
  {
   "cell_type": "code",
   "execution_count": 50,
   "id": "bddc52cd",
   "metadata": {},
   "outputs": [
    {
     "name": "stdout",
     "output_type": "stream",
     "text": [
      "                            OLS Regression Results                            \n",
      "==============================================================================\n",
      "Dep. Variable:               classize   R-squared:                       0.562\n",
      "Model:                            OLS   Adj. R-squared:                  0.561\n",
      "Method:                 Least Squares   F-statistic:                     816.9\n",
      "Date:                Thu, 13 Apr 2023   Prob (F-statistic):               0.00\n",
      "Time:                        00:54:23   Log-Likelihood:                -5319.9\n",
      "No. Observations:                1916   AIC:                         1.065e+04\n",
      "Df Residuals:                    1912   BIC:                         1.067e+04\n",
      "Df Model:                           3                                         \n",
      "Covariance Type:            nonrobust                                         \n",
      "==============================================================================\n",
      "                 coef    std err          t      P>|t|      [0.025      0.975]\n",
      "------------------------------------------------------------------------------\n",
      "const         34.4176      0.330    104.144      0.000      33.769      35.066\n",
      "x1           -13.0124      0.396    -32.832      0.000     -13.790     -12.235\n",
      "x2             0.7238      0.021     34.902      0.000       0.683       0.764\n",
      "x3            -0.3390      0.024    -14.068      0.000      -0.386      -0.292\n",
      "==============================================================================\n",
      "Omnibus:                      364.885   Durbin-Watson:                   1.602\n",
      "Prob(Omnibus):                  0.000   Jarque-Bera (JB):             2989.277\n",
      "Skew:                          -0.656   Prob(JB):                         0.00\n",
      "Kurtosis:                       8.977   Cond. No.                         123.\n",
      "==============================================================================\n",
      "\n",
      "Notes:\n",
      "[1] Standard Errors assume that the covariance matrix of the errors is correctly specified.\n"
     ]
    }
   ],
   "source": [
    "import statsmodels.api as sm\n",
    "from scipy import stats\n",
    "\n",
    "my_X2 = sm.add_constant(my_X)\n",
    "est = sm.OLS(classize, my_X2)\n",
    "est2 = est.fit()\n",
    "print(est2.summary())"
   ]
  },
  {
   "cell_type": "markdown",
   "id": "39d46db8",
   "metadata": {},
   "source": [
    "#### The reduced-form regression model"
   ]
  },
  {
   "cell_type": "markdown",
   "id": "f4571831",
   "metadata": {},
   "source": [
    "Now that we have our first-stage regression coefficients, now we can run our reduced-form regression. The only thing that we perform is regress average score on gt40, c40, and the interaction term. Our multiple linear regression model is thus: "
   ]
  },
  {
   "cell_type": "markdown",
   "id": "7136b32f",
   "metadata": {},
   "source": [
    "$avgscore = \\beta_{0} + \\beta_{1}gt40 + \\beta_{2}ct40 + \\beta_{3}gt40ct40 $\n",
    "\n",
    "Similar to the first-stage, essentially our dependent variable of interest for the reduced-form is average score. After receiving our results, the coefficient on gt40 will tell us the size of the discontinuity, ct40 will tell us the size of the slope before the discontinuity, and the interaction of gt40 and ct40 will provide us with the change in the slope after the cutoff value of 40. This will be our reduced-form regression. Essentially this regression will relate our running variable and our outcome variable.\n",
    "\n",
    "In the code below, I realized that the LinearRegression would not work because average score had NaN or infinite values, thus to improve our regression results, I removed all observations with NaN values, thus the new size of the data frame is now 1912. "
   ]
  },
  {
   "cell_type": "code",
   "execution_count": 51,
   "id": "b947c72c",
   "metadata": {},
   "outputs": [],
   "source": [
    "new_school_df = school_df[abs(school_df['c40']) <= 30].dropna()\n",
    "new_school_df\n",
    "\n",
    "# Here we create series that we will use for further analysis\n",
    "avgscore = new_school_df['avgscore']\n",
    "cohsize = new_school_df['cohsize']\n",
    "\n",
    "# This variable is a variable that denotes whether or not a cohort's size is greater than 40 or not\n",
    "gt40 = new_school_df['gt40']\n",
    "\n",
    "# This variable is a variable that centers our linear regression at 40 to help us obtain a local average treatment effect (LATE)\n",
    "c40 = new_school_df['c40']\n",
    "\n",
    "# This variable is the interaction term \n",
    "gt40c40 = gt40 * c40"
   ]
  },
  {
   "cell_type": "markdown",
   "id": "f8e9025d",
   "metadata": {},
   "source": [
    "#### Running the reduced-form regression model"
   ]
  },
  {
   "cell_type": "markdown",
   "id": "0d8846f8",
   "metadata": {},
   "source": [
    "Now that we have updated our variables for the final time, it is time to run the reduced-form linear regression to see our results. By using sklearn.linear_model LinearRegression, we are able to obtain our regression coefficients.\n"
   ]
  },
  {
   "cell_type": "markdown",
   "id": "3f08aa5e",
   "metadata": {},
   "source": [
    "##### Coefficient interpretations"
   ]
  },
  {
   "cell_type": "markdown",
   "id": "b9c213d4",
   "metadata": {},
   "source": [
    "1. The first coefficient, gt40, is 2.7929356365406983. We interpret this as at the cutoff point, average score increases locally on average by about 2.7929356365406983 as cohort size increases. As a reminder, this is only a local average treatment effect. \n",
    "2. The coefficient, c40, is -0.17628814896655914. This number signifies the slope of the line before the cutoff point. This means that average score decreases by -0.17628814896655914 as cohort size increases. \n",
    "3. The coefficient, gt40c40, is 0.268131481102453. This number signifies the change in the slope after the cutoff point. This means that the average score increases by -0.17628814896655914 + 0.268131481102453 after the cutoff point. "
   ]
  },
  {
   "cell_type": "code",
   "execution_count": 52,
   "id": "04315e94",
   "metadata": {},
   "outputs": [
    {
     "name": "stdout",
     "output_type": "stream",
     "text": [
      "Coefficient of gt40: 2.7929356365406983\n",
      "Coefficient of c40: -0.17628814896655914\n",
      "Coefficient of gt40c40 0.268131481102453\n"
     ]
    }
   ],
   "source": [
    "my_X = np.vstack((gt40, c40, gt40c40)).T\n",
    "reg = LinearRegression().fit(my_X, avgscore)\n",
    "\n",
    "\n",
    "gt40_coef_rd = reg.coef_[0]\n",
    "c40_coef_rd = reg.coef_[1]\n",
    "gt40c40_coef_rd = reg.coef_[2]\n",
    "\n",
    "print('Coefficient of gt40:', gt40_coef)\n",
    "print('Coefficient of c40:', c40_coef)\n",
    "print('Coefficient of gt40c40', gt40c40_coef)"
   ]
  },
  {
   "cell_type": "code",
   "execution_count": 53,
   "id": "e9e28716",
   "metadata": {},
   "outputs": [
    {
     "name": "stdout",
     "output_type": "stream",
     "text": [
      "                            OLS Regression Results                            \n",
      "==============================================================================\n",
      "Dep. Variable:               avgscore   R-squared:                       0.022\n",
      "Model:                            OLS   Adj. R-squared:                  0.020\n",
      "Method:                 Least Squares   F-statistic:                     14.15\n",
      "Date:                Thu, 13 Apr 2023   Prob (F-statistic):           4.02e-09\n",
      "Time:                        00:54:30   Log-Likelihood:                -6845.9\n",
      "No. Observations:                1912   AIC:                         1.370e+04\n",
      "Df Residuals:                    1908   BIC:                         1.372e+04\n",
      "Df Model:                           3                                         \n",
      "Covariance Type:            nonrobust                                         \n",
      "==============================================================================\n",
      "                 coef    std err          t      P>|t|      [0.025      0.975]\n",
      "------------------------------------------------------------------------------\n",
      "const         65.5836      0.740     88.590      0.000      64.132      67.035\n",
      "x1             2.7929      0.887      3.148      0.002       1.053       4.533\n",
      "x2            -0.1763      0.047     -3.776      0.000      -0.268      -0.085\n",
      "x3             0.2681      0.054      4.952      0.000       0.162       0.374\n",
      "==============================================================================\n",
      "Omnibus:                       82.727   Durbin-Watson:                   1.384\n",
      "Prob(Omnibus):                  0.000   Jarque-Bera (JB):               95.119\n",
      "Skew:                          -0.494   Prob(JB):                     2.21e-21\n",
      "Kurtosis:                       3.466   Cond. No.                         123.\n",
      "==============================================================================\n",
      "\n",
      "Notes:\n",
      "[1] Standard Errors assume that the covariance matrix of the errors is correctly specified.\n"
     ]
    }
   ],
   "source": [
    "import statsmodels.api as sm\n",
    "from scipy import stats\n",
    "\n",
    "my_X2 = sm.add_constant(my_X)\n",
    "est = sm.OLS(avgscore, my_X2)\n",
    "est2 = est.fit()\n",
    "print(est2.summary())"
   ]
  },
  {
   "cell_type": "markdown",
   "id": "714e112b",
   "metadata": {},
   "source": [
    "#### Overall interpretation of our results"
   ]
  },
  {
   "cell_type": "markdown",
   "id": "e60ce8f0",
   "metadata": {},
   "source": [
    "As a reminder, our aim is to see the effect of class size on average score. But the regressions that we ran involved regressing class size on cohort size and average score on cohort size. So how do we obtain the estimate of the effect of class size on average score? All we do is divide the coefficient from the reduced-form by the coefficient from the first-stage and we can interpret that as the causal effect of class size on average score."
   ]
  },
  {
   "cell_type": "markdown",
   "id": "e3a87a40",
   "metadata": {},
   "source": [
    "Below, we obtain the effects of class size on average score. First we obtain the regression discontinuity design effect which is 0.268131481102453. We interpret this as class size causes a change in the level of average score to increase at the cutoff by around 0.268131481102453. The regression kink design effect is -0.7909320711264072, and we interpret this as a change in the slope at the cutoff of -0.7909320711264072 which signifies that average score will decrease at the cutoff as class size increases. Since all of our regression coefficients that we obtained were statistically significant, we can say that our coefficients are statistically different from zero and relate to each other in a meaningful way. "
   ]
  },
  {
   "cell_type": "code",
   "execution_count": 68,
   "id": "70c9481f",
   "metadata": {},
   "outputs": [
    {
     "name": "stdout",
     "output_type": "stream",
     "text": [
      "This is the effect of class size on average score: 0.268131481102453\n",
      "This is the change in the slope of class size versus test score around the cutoff point: -0.7909320711264072\n"
     ]
    }
   ],
   "source": [
    "# This is the effect of class size on average score\n",
    "rdd = gt40_coef_rd / gt40_coef_fs\n",
    "print('This is the effect of class size on average score:', gt40c40_coef_rd)\n",
    "\n",
    "rkd = gt40c40_coef_rd / gt40c40_coef_fs\n",
    "print('This is the change in the slope of class size versus test score around the cutoff point:', rkd)"
   ]
  }
 ],
 "metadata": {
  "kernelspec": {
   "display_name": "Python 3 (ipykernel)",
   "language": "python",
   "name": "python3"
  },
  "language_info": {
   "codemirror_mode": {
    "name": "ipython",
    "version": 3
   },
   "file_extension": ".py",
   "mimetype": "text/x-python",
   "name": "python",
   "nbconvert_exporter": "python",
   "pygments_lexer": "ipython3",
   "version": "3.9.7"
  }
 },
 "nbformat": 4,
 "nbformat_minor": 5
}
